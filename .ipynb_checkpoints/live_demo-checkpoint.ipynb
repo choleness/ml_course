{
 "cells": [
  {
   "cell_type": "markdown",
   "metadata": {
    "colab_type": "text",
    "id": "rJmoYwdnS2xc"
   },
   "source": [
    "# Jupyter Demo\n",
    "\n",
    "This is a note in Markdown"
   ]
  },
  {
   "cell_type": "code",
   "execution_count": 0,
   "metadata": {
    "colab": {},
    "colab_type": "code",
    "collapsed": true,
    "id": "t2qaNfBeS2xk"
   },
   "outputs": [],
   "source": [
    "2+2"
   ]
  },
  {
   "cell_type": "code",
   "execution_count": 0,
   "metadata": {
    "colab": {},
    "colab_type": "code",
    "collapsed": true,
    "id": "7UniVFo0S2x4"
   },
   "outputs": [],
   "source": [
    "print(\"hello\")\n",
    "2+2\n",
    "3+3"
   ]
  },
  {
   "cell_type": "code",
   "execution_count": 0,
   "metadata": {
    "colab": {},
    "colab_type": "code",
    "collapsed": true,
    "id": "umwIiWSoS2yC"
   },
   "outputs": [],
   "source": [
    "just some code"
   ]
  },
  {
   "cell_type": "markdown",
   "metadata": {
    "colab_type": "text",
    "id": "3Zg8AylKS2yK"
   },
   "source": [
    "# hello world!"
   ]
  },
  {
   "cell_type": "code",
   "execution_count": 0,
   "metadata": {
    "colab": {},
    "colab_type": "code",
    "collapsed": true,
    "id": "6z3uSu1KS2yQ",
    "scrolled": true
   },
   "outputs": [],
   "source": [
    "# this is a comment line\n",
    "print('hello world') # single quotes"
   ]
  },
  {
   "cell_type": "code",
   "execution_count": 0,
   "metadata": {
    "colab": {},
    "colab_type": "code",
    "collapsed": true,
    "id": "9_C0uvwiS2yY"
   },
   "outputs": [],
   "source": [
    "print(\"hello world\") # double quotes"
   ]
  },
  {
   "cell_type": "code",
   "execution_count": 0,
   "metadata": {
    "colab": {},
    "colab_type": "code",
    "collapsed": true,
    "id": "2pIp7u4BS2yf"
   },
   "outputs": [],
   "source": [
    "print('''hello world''') # triple single quotes"
   ]
  },
  {
   "cell_type": "code",
   "execution_count": 0,
   "metadata": {
    "colab": {},
    "colab_type": "code",
    "collapsed": true,
    "id": "rXcBM92JS2ym"
   },
   "outputs": [],
   "source": [
    "print(\"\"\"hello world\"\"\") # triple double quotes"
   ]
  },
  {
   "cell_type": "markdown",
   "metadata": {
    "colab_type": "text",
    "id": "PtdH0CXVS2yt"
   },
   "source": [
    "# Variables"
   ]
  },
  {
   "cell_type": "code",
   "execution_count": 0,
   "metadata": {
    "colab": {},
    "colab_type": "code",
    "collapsed": true,
    "id": "Mft-v7oTS2yv"
   },
   "outputs": [],
   "source": [
    "x = 3"
   ]
  },
  {
   "cell_type": "code",
   "execution_count": 0,
   "metadata": {
    "colab": {},
    "colab_type": "code",
    "collapsed": true,
    "id": "C5-7RIawS2y-",
    "scrolled": true
   },
   "outputs": [],
   "source": [
    "type(x) # type function"
   ]
  },
  {
   "cell_type": "markdown",
   "metadata": {
    "colab_type": "text",
    "id": "DxgMVwqmS2zF"
   },
   "source": [
    "# Operators and Methods"
   ]
  },
  {
   "cell_type": "code",
   "execution_count": 0,
   "metadata": {
    "colab": {},
    "colab_type": "code",
    "collapsed": true,
    "id": "h4yGNYm9S2zK"
   },
   "outputs": [],
   "source": [
    "x + 3"
   ]
  },
  {
   "cell_type": "code",
   "execution_count": 0,
   "metadata": {
    "colab": {},
    "colab_type": "code",
    "collapsed": true,
    "id": "ouxpYsrJS2zU",
    "scrolled": true
   },
   "outputs": [],
   "source": [
    "x.__add__(3) # \"dunder add dunder\" (or just \"add\") method\n",
    "            # Pythons's instructions for executing +"
   ]
  },
  {
   "cell_type": "markdown",
   "metadata": {
    "colab_type": "text",
    "id": "rYisp-wtS2zc"
   },
   "source": [
    "# Lists"
   ]
  },
  {
   "cell_type": "code",
   "execution_count": 0,
   "metadata": {
    "colab": {},
    "colab_type": "code",
    "collapsed": true,
    "id": "5i_kdlEWS2ze",
    "scrolled": true
   },
   "outputs": [],
   "source": [
    "my_list = [ 1,2,3,4,5,6,7,8,9,10]\n",
    "my_list"
   ]
  },
  {
   "cell_type": "code",
   "execution_count": 0,
   "metadata": {
    "colab": {},
    "colab_type": "code",
    "collapsed": true,
    "id": "45wqHVLiS2zo"
   },
   "outputs": [],
   "source": [
    "my_list[3::2] # start : end : skip"
   ]
  },
  {
   "cell_type": "code",
   "execution_count": 0,
   "metadata": {
    "colab": {},
    "colab_type": "code",
    "collapsed": true,
    "id": "38EK9aZkS2z9",
    "scrolled": true
   },
   "outputs": [],
   "source": [
    "my_list.append(7)\n",
    "my_list"
   ]
  },
  {
   "cell_type": "code",
   "execution_count": 0,
   "metadata": {
    "colab": {},
    "colab_type": "code",
    "collapsed": true,
    "id": "GGfNuWnBS20N"
   },
   "outputs": [],
   "source": [
    "my_list.remove(2)\n",
    "my_list"
   ]
  },
  {
   "cell_type": "markdown",
   "metadata": {
    "colab_type": "text",
    "id": "NuzKqNA9S20W"
   },
   "source": [
    "# Dictionaries"
   ]
  },
  {
   "cell_type": "code",
   "execution_count": 0,
   "metadata": {
    "colab": {},
    "colab_type": "code",
    "collapsed": true,
    "id": "dM8kWsDvS20b"
   },
   "outputs": [],
   "source": [
    "ages = {\"Adam\": 32, \"Ashley\": 24, \"Jon\": 54}\n",
    "ages"
   ]
  },
  {
   "cell_type": "code",
   "execution_count": 0,
   "metadata": {
    "colab": {},
    "colab_type": "code",
    "collapsed": true,
    "id": "3yszE5CBS20g"
   },
   "outputs": [],
   "source": [
    "ages[\"Adam\"]"
   ]
  },
  {
   "cell_type": "markdown",
   "metadata": {
    "colab_type": "text",
    "id": "HSohkJUJS20o"
   },
   "source": [
    "# if"
   ]
  },
  {
   "cell_type": "code",
   "execution_count": 0,
   "metadata": {
    "colab": {},
    "colab_type": "code",
    "collapsed": true,
    "id": "1CUbAWH_S20r"
   },
   "outputs": [],
   "source": [
    "A = 10\n",
    "B = 100"
   ]
  },
  {
   "cell_type": "code",
   "execution_count": 0,
   "metadata": {
    "colab": {},
    "colab_type": "code",
    "collapsed": true,
    "id": "lksRskeJS20-"
   },
   "outputs": [],
   "source": [
    "if A == 10:\n",
    "    print(\"var is 10\")"
   ]
  },
  {
   "cell_type": "code",
   "execution_count": 0,
   "metadata": {
    "colab": {},
    "colab_type": "code",
    "collapsed": true,
    "id": "VOuVWENbS21E"
   },
   "outputs": [],
   "source": [
    "if B == 10:\n",
    "    print(\"var is 10\")"
   ]
  },
  {
   "cell_type": "code",
   "execution_count": 0,
   "metadata": {
    "colab": {},
    "colab_type": "code",
    "collapsed": true,
    "id": "npgVcQ-ZS21M"
   },
   "outputs": [],
   "source": [
    "if A == 10:\n",
    "    print(\"var is 10\")\n",
    "else:\n",
    "    print(\"var is not 10\")"
   ]
  },
  {
   "cell_type": "code",
   "execution_count": 0,
   "metadata": {
    "colab": {},
    "colab_type": "code",
    "collapsed": true,
    "id": "cC9niTIrS21U"
   },
   "outputs": [],
   "source": [
    "if B == 10:\n",
    "    print(\"var is 10\")\n",
    "else:\n",
    "    print(\"var is not 10\")"
   ]
  },
  {
   "cell_type": "markdown",
   "metadata": {
    "colab_type": "text",
    "id": "_Naf1ynMS21m"
   },
   "source": [
    "# for Loops"
   ]
  },
  {
   "cell_type": "code",
   "execution_count": 0,
   "metadata": {
    "colab": {},
    "colab_type": "code",
    "collapsed": true,
    "id": "Cty_b8ugS21r"
   },
   "outputs": [],
   "source": [
    "total = 0\n",
    "for number in [1,2,3,4,5]:\n",
    "    total += number\n",
    "print(\"total is:\",total)"
   ]
  },
  {
   "cell_type": "code",
   "execution_count": 0,
   "metadata": {
    "colab": {},
    "colab_type": "code",
    "collapsed": true,
    "id": "H9XftcHhS214"
   },
   "outputs": [],
   "source": [
    "import time\n",
    "counter = 0\n",
    "my_list = [1,2,3,4,5]\n",
    "for number in my_list:\n",
    "    counter += 1\n",
    "    my_list.append(counter) # extending the list means we will never finish\n",
    "    print(\"new_list:\", my_list)\n",
    "    time.sleep(1)"
   ]
  },
  {
   "cell_type": "code",
   "execution_count": 0,
   "metadata": {
    "colab": {},
    "colab_type": "code",
    "collapsed": true,
    "id": "hEMvqRlvS22C"
   },
   "outputs": [],
   "source": [
    "counter = 0\n",
    "my_list = [1,2,3,4,5]\n",
    "for number in my_list:\n",
    "    counter += 1\n",
    "#     my_list.append(counter)\n",
    "    print(\"new_list:\", my_list)\n",
    "    time.sleep(1)"
   ]
  },
  {
   "cell_type": "markdown",
   "metadata": {
    "colab_type": "text",
    "id": "2S86L6gBS22F"
   },
   "source": [
    "# Functions"
   ]
  },
  {
   "cell_type": "code",
   "execution_count": 0,
   "metadata": {
    "colab": {},
    "colab_type": "code",
    "collapsed": true,
    "id": "7UcoGaROS22G"
   },
   "outputs": [],
   "source": [
    "square"
   ]
  },
  {
   "cell_type": "code",
   "execution_count": 0,
   "metadata": {
    "colab": {},
    "colab_type": "code",
    "collapsed": true,
    "id": "oRR-kTmpS22M"
   },
   "outputs": [],
   "source": [
    "def square(x):\n",
    "    \"\"\"Return the square of x\"\"\"\n",
    "    return x ** 2  # no output when defining the function because there was no execution"
   ]
  },
  {
   "cell_type": "code",
   "execution_count": 0,
   "metadata": {
    "colab": {},
    "colab_type": "code",
    "collapsed": true,
    "id": "L5CMenBlS22Q"
   },
   "outputs": [],
   "source": [
    "square(3)"
   ]
  },
  {
   "cell_type": "code",
   "execution_count": 0,
   "metadata": {
    "colab": {},
    "colab_type": "code",
    "collapsed": true,
    "id": "GPoMcOimS22T"
   },
   "outputs": [],
   "source": [
    "x = square(5)  # here output is saved in x rather than being presented on the screen"
   ]
  },
  {
   "cell_type": "code",
   "execution_count": 0,
   "metadata": {
    "colab": {},
    "colab_type": "code",
    "collapsed": true,
    "id": "-b3BzpJxS22X"
   },
   "outputs": [],
   "source": [
    "x"
   ]
  },
  {
   "cell_type": "markdown",
   "metadata": {
    "colab_type": "text",
    "id": "3KRfNZfvS22d"
   },
   "source": [
    "# Example\n",
    "\n",
    "I recommend starting a new notebook for this example problem (\"download as .py\" and run all cells are not useful since we have intentional errors up above...)\n",
    "\n",
    "The data used here show measured car speeds with 3 other labels\n",
    "\n",
    "1. **pair** - There are 14 pairs of data collected\n",
    "2. **warning** - For each pair, two sections of road were measured:\n",
    "    1. where a warning sign was placed for part of the experiment\n",
    "    2. a similar stretch of road in another part of town where no sign was erected during the experiment (control)\n",
    "3. **period** - (each period has about 100 points) There are 3 time periods in the data for each pair:\n",
    "    1. Before the warning sign was placed on road section 1\n",
    "    2. Just after the sign was placed on road section 1\n",
    "    3. Some time after the sign was erected (so the sign is no longer \"new\")\n",
    "\n",
    "We want to study how the **average speed changes** in one section of road (pair 7, say) after the sign was erected, so we need to:\n",
    "\n",
    "- Read the data\n",
    "- Loop over the rows of data\n",
    "- Select data only from the group of interest\n",
    "- Compute the answer"
   ]
  },
  {
   "cell_type": "code",
   "execution_count": 0,
   "metadata": {
    "colab": {},
    "colab_type": "code",
    "collapsed": true,
    "id": "UVj1qwKsS22e"
   },
   "outputs": [],
   "source": [
    "# pandas is like Excel for Python\n",
    "# it adds a DataFrame data structure to hold data\n",
    "# and functions for reading datafiles easily\n",
    "\n",
    "# Read in a dataset from the web\n",
    "# Google R datasets, should see listing as second hit linking to:\n",
    "# https://vincentarelbundock.github.io/Rdatasets/datasets.html\n",
    "# Using the amis dataset, #5 on that page\n",
    "\n",
    "# see the documentation for the dataset at\n",
    "# https://vincentarelbundock.github.io/Rdatasets/doc/boot/amis.html\n",
    "\n",
    "# this will also work with data stored on your computer\n",
    "# see pd.read_sql() and pd.read_excel()\n",
    "# for more data input options\n",
    "\n",
    "import pandas as pd\n",
    "df = pd.read_csv(\n",
    "    \"https://vincentarelbundock.github.io/Rdatasets/csv/boot/amis.csv\",\n",
    "    usecols=range(1,5)\n",
    "                )"
   ]
  },
  {
   "cell_type": "code",
   "execution_count": 0,
   "metadata": {
    "colab": {},
    "colab_type": "code",
    "collapsed": true,
    "id": "FE2W0WChS22i"
   },
   "outputs": [],
   "source": [
    "df.head() # preview the data"
   ]
  },
  {
   "cell_type": "code",
   "execution_count": 0,
   "metadata": {
    "colab": {},
    "colab_type": "code",
    "collapsed": true,
    "id": "DL6eW39FS22m",
    "scrolled": true
   },
   "outputs": [],
   "source": [
    "for row in df.head().values:  # loop over the rows... test loop on just a few rows to check\n",
    "    print(row)"
   ]
  },
  {
   "cell_type": "code",
   "execution_count": 0,
   "metadata": {
    "colab": {},
    "colab_type": "code",
    "collapsed": true,
    "id": "NTmwK70sS22t",
    "scrolled": true
   },
   "outputs": [],
   "source": [
    "for row in df.head().values:  # each row is a list, and I want to filter pair = 7\n",
    "    print(row[3]) # pair is the last column, so I need to slice the last element from each list"
   ]
  },
  {
   "cell_type": "code",
   "execution_count": 0,
   "metadata": {
    "colab": {},
    "colab_type": "code",
    "collapsed": true,
    "id": "ZQav65egS22x"
   },
   "outputs": [],
   "source": [
    "my_list = [] # empty list to save just the data I want\n",
    "for row in df.values:\n",
    "    if row[3] == 7: # use an if statement to select just pair 7, note the if is nested inside the loop\n",
    "        my_list.append(row[0]) # append the speed (index 0) to another list to store the data, note this is indented even more!!\n",
    "\n",
    "len(my_list)  # see how much data I got"
   ]
  },
  {
   "cell_type": "code",
   "execution_count": 0,
   "metadata": {
    "colab": {},
    "colab_type": "code",
    "collapsed": true,
    "id": "kYQAOcdjS221"
   },
   "outputs": [],
   "source": [
    "before = [] # empty list to save just the data I want\n",
    "for row in df.values:\n",
    "    if row[3] == 7:  # filter to road segment 7\n",
    "        if row[2] == 1: # filter just the roads with a warning sign erected\n",
    "            before.append(row[0]) # note this is indented even more!!\n",
    "\n",
    "len(before)  # see how much data I got"
   ]
  },
  {
   "cell_type": "code",
   "execution_count": 0,
   "metadata": {
    "colab": {},
    "colab_type": "code",
    "collapsed": true,
    "id": "b3VvLFEbS225"
   },
   "outputs": [],
   "source": [
    "before = [] # empty list to save just the data I want\n",
    "after = [] # empty list to save just the data I want\n",
    "\n",
    "for row in df.values:\n",
    "    if row[3] == 7:  # filter to road segment 7\n",
    "        if row[2] == 1: # filter just the roads with a warning sign erected\n",
    "            if row[1] == 1: # filter to just the time before the sign\n",
    "                before.append(row[0]) # note this is indented even more!!\n",
    "            if row[1] == 3: # filter to just the time after the sign\n",
    "                after.append(row[0]) # note this is indented even more!!\n",
    "\n",
    "len(before), len(after)   # see how much data I got"
   ]
  },
  {
   "cell_type": "code",
   "execution_count": 0,
   "metadata": {
    "colab": {},
    "colab_type": "code",
    "collapsed": true,
    "id": "okV1smEwS23E"
   },
   "outputs": [],
   "source": [
    "print(\"average before sign: \", sum(before)/len(before))  # average = sum / N"
   ]
  },
  {
   "cell_type": "code",
   "execution_count": 0,
   "metadata": {
    "colab": {},
    "colab_type": "code",
    "collapsed": true,
    "id": "xV5szwyFS23H",
    "scrolled": true
   },
   "outputs": [],
   "source": [
    "print(\"average after sign: \", sum(after)/len(after))  # average = sum / N"
   ]
  },
  {
   "cell_type": "code",
   "execution_count": 0,
   "metadata": {
    "colab": {},
    "colab_type": "code",
    "collapsed": true,
    "id": "WSPWbX9QS23e"
   },
   "outputs": [],
   "source": [
    "# Looks like the sign made no difference "
   ]
  },
  {
   "cell_type": "code",
   "execution_count": 0,
   "metadata": {
    "colab": {},
    "colab_type": "code",
    "collapsed": true,
    "id": "Qa08KpHOS23j"
   },
   "outputs": [],
   "source": [
    "# rather than repeat this process in one line with pandas!\n",
    "df.groupby(['pair','warning','period']).agg(['mean','std']).round(2)"
   ]
  },
  {
   "cell_type": "code",
   "execution_count": 0,
   "metadata": {
    "colab": {},
    "colab_type": "code",
    "collapsed": true,
    "id": "-I_zat83S23q",
    "scrolled": false
   },
   "outputs": [],
   "source": [
    "_ = df['speed'].hist() # pandas has lots of other cool features too!"
   ]
  },
  {
   "cell_type": "markdown",
   "metadata": {
    "colab_type": "text",
    "id": "KIioOFUjS23t"
   },
   "source": [
    "# Download and run as script"
   ]
  },
  {
   "cell_type": "markdown",
   "metadata": {
    "colab_type": "text",
    "id": "vtDkqMfyS23u"
   },
   "source": [
    "0. Change the Notebook name to `speeding_example`\n",
    "1. File > Download As > Python (.py)\n",
    "    - Click \"Keep\" if Browser warns file may be dangerous\n",
    "2. Open new Terminal (or Anaconda Prompt) window\n",
    "3. Change to Downloads folder in Terminal\n",
    "    - type: `cd Downloads` and press enter\n",
    "4. Run the python script\n",
    "    - type: `python speeding_example.py` and press enter\n",
    "    \n",
    "Note only the printed output lines appear in the terminal!"
   ]
  },
  {
   "cell_type": "code",
   "execution_count": 0,
   "metadata": {
    "colab": {},
    "colab_type": "code",
    "collapsed": true,
    "id": "pBVGsi08S23w"
   },
   "outputs": [],
   "source": []
  }
 ],
 "metadata": {
  "colab": {
   "name": "Copy of live_demo (1).ipynb",
   "provenance": [],
   "version": "0.3.2"
  },
  "kernelspec": {
   "display_name": "Python 3",
   "language": "python",
   "name": "python3"
  },
  "language_info": {
   "codemirror_mode": {
    "name": "ipython",
    "version": 3
   },
   "file_extension": ".py",
   "mimetype": "text/x-python",
   "name": "python",
   "nbconvert_exporter": "python",
   "pygments_lexer": "ipython3",
   "version": "3.6.3"
  }
 },
 "nbformat": 4,
 "nbformat_minor": 1
}
