{
 "cells": [
  {
   "cell_type": "markdown",
   "metadata": {},
   "source": [
    "# Python Machine Learning In Biology:\n",
    "# Python Foundations"
   ]
  },
  {
   "cell_type": "markdown",
   "metadata": {},
   "source": [
    "## Independent Practice"
   ]
  },
  {
   "cell_type": "markdown",
   "metadata": {},
   "source": [
    "### Iterate from 1 to 30 with the following instructions:  \n",
    "If a number is divisible by 3, print 'fizz'.  \n",
    "If a number is divisible by 5, print 'buzz'.  \n",
    "If a number is both divisible by 3 and 5 print 'fizzbuzz'.  \n",
    "Otherwise, print just the number.  "
   ]
  },
  {
   "cell_type": "code",
   "execution_count": 1,
   "metadata": {},
   "outputs": [
    {
     "name": "stdout",
     "output_type": "stream",
     "text": [
      "1 Nondivisible by 3 or 5\n",
      "2 Nondivisible by 3 or 5\n",
      "3 fizz\n",
      "4 Nondivisible by 3 or 5\n",
      "5 buzz\n",
      "6 fizz\n",
      "7 Nondivisible by 3 or 5\n",
      "8 Nondivisible by 3 or 5\n",
      "9 fizz\n",
      "10 buzz\n",
      "11 Nondivisible by 3 or 5\n",
      "12 fizz\n",
      "13 Nondivisible by 3 or 5\n",
      "14 Nondivisible by 3 or 5\n",
      "15 fizzbuzz\n",
      "16 Nondivisible by 3 or 5\n",
      "17 Nondivisible by 3 or 5\n",
      "18 fizz\n",
      "19 Nondivisible by 3 or 5\n",
      "20 buzz\n",
      "21 fizz\n",
      "22 Nondivisible by 3 or 5\n",
      "23 Nondivisible by 3 or 5\n",
      "24 fizz\n",
      "25 buzz\n",
      "26 Nondivisible by 3 or 5\n",
      "27 fizz\n",
      "28 Nondivisible by 3 or 5\n",
      "29 Nondivisible by 3 or 5\n",
      "30 fizzbuzz\n"
     ]
    }
   ],
   "source": [
    "for i in range(1,31):\n",
    "    if i % 3 == 0 and i % 5 == 0:\n",
    "        print(i, 'fizzbuzz')\n",
    "    elif i % 3 == 0:\n",
    "        print(i, 'fizz')\n",
    "    elif i % 5 == 0:\n",
    "        print(i, 'buzz')\n",
    "    else:\n",
    "        print(i, 'Nondivisible by 3 or 5')"
   ]
  },
  {
   "cell_type": "markdown",
   "metadata": {},
   "source": [
    "### Iterate through the animals. Print out the animal name and the number of vowels in the name."
   ]
  },
  {
   "cell_type": "code",
   "execution_count": 2,
   "metadata": {
    "collapsed": true
   },
   "outputs": [],
   "source": [
    "animals = ['duck', 'rat', 'boar', 'slug', 'mammoth', 'gazelle']"
   ]
  },
  {
   "cell_type": "code",
   "execution_count": 3,
   "metadata": {},
   "outputs": [
    {
     "name": "stdout",
     "output_type": "stream",
     "text": [
      "duck 1\n",
      "rat 1\n",
      "boar 2\n",
      "slug 1\n",
      "mammoth 2\n",
      "gazelle 3\n"
     ]
    }
   ],
   "source": [
    "vowels = 'aeiou'\n",
    "\n",
    "for word in animals:\n",
    "    vowels_count = 0\n",
    "    for char in word:\n",
    "        if char in vowels:\n",
    "            vowels_count +=1\n",
    "    print(word, vowels_count)"
   ]
  },
  {
   "cell_type": "markdown",
   "metadata": {},
   "source": [
    "### Write a function to calculate the area of a triangle that takes a height and width."
   ]
  },
  {
   "cell_type": "code",
   "execution_count": 4,
   "metadata": {},
   "outputs": [
    {
     "data": {
      "text/plain": [
       "1.0"
      ]
     },
     "execution_count": 4,
     "metadata": {},
     "output_type": "execute_result"
    }
   ],
   "source": [
    "def get_tri_area(height, width):\n",
    "    return(height * width / 2)\n",
    "\n",
    "get_tri_area(2,1)"
   ]
  },
  {
   "cell_type": "markdown",
   "metadata": {},
   "source": [
    "### Write a function that takes two integers, passed as strings, and returns the sum, difference, and product as a tuple (all values as integers)."
   ]
  },
  {
   "cell_type": "code",
   "execution_count": 5,
   "metadata": {},
   "outputs": [
    {
     "data": {
      "text/plain": [
       "(12, -2, 35)"
      ]
     },
     "execution_count": 5,
     "metadata": {},
     "output_type": "execute_result"
    }
   ],
   "source": [
    "def string_to_int(num_1, num_2):\n",
    "    int_1 = int(num_1)\n",
    "    int_2 = int(num_2)\n",
    "    my_sum = int_1 + int_2\n",
    "    my_diff = int_1 - int_2\n",
    "    my_prod = int_1 * int_2\n",
    "    return (my_sum, my_diff, my_prod)\n",
    "\n",
    "string_to_int(\"5\", \"7\")"
   ]
  },
  {
   "cell_type": "code",
   "execution_count": 6,
   "metadata": {},
   "outputs": [
    {
     "name": "stdout",
     "output_type": "stream",
     "text": [
      "55\n"
     ]
    }
   ],
   "source": [
    "print(string_to_int(\"34\", \"21\")[0])"
   ]
  },
  {
   "cell_type": "markdown",
   "metadata": {},
   "source": [
    "### Write a function that takes a list as the argument and returns a tuple consisting of two elements:  \n",
    "A list with the items in reverse order.  \n",
    "A list of the items in the original list that have an odd index.  "
   ]
  },
  {
   "cell_type": "code",
   "execution_count": 7,
   "metadata": {
    "collapsed": true
   },
   "outputs": [],
   "source": [
    "def listy(my_list):\n",
    "    reverse_list = my_list[::-1]\n",
    "    odd_list = my_list[1::2]\n",
    "    return(reverse_list, odd_list)"
   ]
  },
  {
   "cell_type": "code",
   "execution_count": 8,
   "metadata": {},
   "outputs": [
    {
     "data": {
      "text/plain": [
       "([7, 6, 5, 4, 3, 2, 1], [2, 4, 6])"
      ]
     },
     "execution_count": 8,
     "metadata": {},
     "output_type": "execute_result"
    }
   ],
   "source": [
    "listy([1,2,3,4,5,6,7])"
   ]
  },
  {
   "cell_type": "markdown",
   "metadata": {},
   "source": [
    "# Bonus Practice   \n",
    "(if you get done with the above and want more practice)"
   ]
  },
  {
   "cell_type": "markdown",
   "metadata": {},
   "source": [
    "[DNA-to-RNA](https://www.codewars.com/kata/dna-to-rna-conversion)  \n",
    "[Area of an Arrow](https://www.codewars.com/kata/area-of-an-arrow)  \n",
    "[Dubstep](https://www.codewars.com/kata/dubstep/train/python)  \n",
    "[Good Vs. Evil](https://www.codewars.com/kata/good-vs-evil/train/python)  "
   ]
  }
 ],
 "metadata": {
  "kernelspec": {
   "display_name": "Python 3",
   "language": "python",
   "name": "python3"
  },
  "language_info": {
   "codemirror_mode": {
    "name": "ipython",
    "version": 3
   },
   "file_extension": ".py",
   "mimetype": "text/x-python",
   "name": "python",
   "nbconvert_exporter": "python",
   "pygments_lexer": "ipython3",
   "version": "3.6.3"
  }
 },
 "nbformat": 4,
 "nbformat_minor": 2
}
